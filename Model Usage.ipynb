{
 "cells": [
  {
   "cell_type": "markdown",
   "id": "3f7fa66e",
   "metadata": {},
   "source": [
    "Here we will see how the model which we trained  can be used to make new predictions\n"
   ]
  },
  {
   "cell_type": "code",
   "execution_count": 7,
   "id": "49dbbc30",
   "metadata": {},
   "outputs": [],
   "source": [
    "from joblib import dump,load\n",
    "import numpy as np\n",
    "# This script loads a pre-trained model from a file named 'housing_model.joblib'\n",
    "model=load('housing_model.joblib')"
   ]
  },
  {
   "cell_type": "markdown",
   "id": "348bc231",
   "metadata": {},
   "source": [
    "Here we will put the feature and predict"
   ]
  },
  {
   "cell_type": "code",
   "execution_count": null,
   "id": "00f13027",
   "metadata": {},
   "outputs": [
    {
     "name": "stdout",
     "output_type": "stream",
     "text": [
      "[22.387]\n"
     ]
    }
   ],
   "source": [
    "features= np.array([[-0.43942006,  3.12628155, -1.12165014, -0.27288841, -1.42262747,\n",
    "       -0.23979304, -1.31238772,  2.61111401, -1.0016859 , -0.5778192 ,\n",
    "       -0.97491834,  0.51164221, -0.86091034]])  # example features for prediction according to the models requirements and availabe data \n",
    "predicted_price = model.predict(features)  \n",
    "print(predicted_price)  # Output the predicted price\n",
    "# Save the predicted price to a file named 'predicted_price.txt'"
   ]
  }
 ],
 "metadata": {
  "kernelspec": {
   "display_name": "Python 3",
   "language": "python",
   "name": "python3"
  },
  "language_info": {
   "codemirror_mode": {
    "name": "ipython",
    "version": 3
   },
   "file_extension": ".py",
   "mimetype": "text/x-python",
   "name": "python",
   "nbconvert_exporter": "python",
   "pygments_lexer": "ipython3",
   "version": "3.12.3"
  }
 },
 "nbformat": 4,
 "nbformat_minor": 5
}
